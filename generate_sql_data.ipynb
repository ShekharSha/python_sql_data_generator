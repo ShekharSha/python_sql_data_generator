{
  "nbformat": 4,
  "nbformat_minor": 0,
  "metadata": {
    "colab": {
      "provenance": [],
      "authorship_tag": "ABX9TyPiwtUz26tywhe5ISi6E6ug",
      "include_colab_link": true
    },
    "kernelspec": {
      "name": "python3",
      "display_name": "Python 3"
    },
    "language_info": {
      "name": "python"
    }
  },
  "cells": [
    {
      "cell_type": "markdown",
      "metadata": {
        "id": "view-in-github",
        "colab_type": "text"
      },
      "source": [
        "<a href=\"https://colab.research.google.com/github/ShekharSha/python_sql_data_generator/blob/main/generate_sql_data.ipynb\" target=\"_parent\"><img src=\"https://colab.research.google.com/assets/colab-badge.svg\" alt=\"Open In Colab\"/></a>"
      ]
    },
    {
      "cell_type": "code",
      "source": [
        "!pip install Faker"
      ],
      "metadata": {
        "colab": {
          "base_uri": "https://localhost:8080/"
        },
        "id": "uSfXxwjEcRhC",
        "outputId": "b885d256-1496-49d1-c05a-99df4c31108f"
      },
      "execution_count": 1,
      "outputs": [
        {
          "output_type": "stream",
          "name": "stdout",
          "text": [
            "Collecting Faker\n",
            "  Downloading faker-37.8.0-py3-none-any.whl.metadata (15 kB)\n",
            "Requirement already satisfied: tzdata in /usr/local/lib/python3.12/dist-packages (from Faker) (2025.2)\n",
            "Downloading faker-37.8.0-py3-none-any.whl (2.0 MB)\n",
            "\u001b[2K   \u001b[90m━━━━━━━━━━━━━━━━━━━━━━━━━━━━━━━━━━━━━━━━\u001b[0m \u001b[32m2.0/2.0 MB\u001b[0m \u001b[31m20.7 MB/s\u001b[0m eta \u001b[36m0:00:00\u001b[0m\n",
            "\u001b[?25hInstalling collected packages: Faker\n",
            "Successfully installed Faker-37.8.0\n"
          ]
        }
      ]
    },
    {
      "cell_type": "code",
      "execution_count": 6,
      "metadata": {
        "colab": {
          "base_uri": "https://localhost:8080/"
        },
        "id": "9IPaOgpGjAeP",
        "outputId": "eaaae25d-0420-4a3f-b91b-56d6b4dca880"
      },
      "outputs": [
        {
          "output_type": "stream",
          "name": "stdout",
          "text": [
            "✅ SQL script with 500+ records generated successfully!\n"
          ]
        }
      ],
      "source": [
        "from faker import Faker\n",
        "import random\n",
        "from datetime import datetime, timedelta\n",
        "\n",
        "fake = Faker(\"en_IN\")   # Indian style names, numbers\n",
        "\n",
        "records = []\n",
        "gatepass_no = 1001\n",
        "\n",
        "for i in range(500):\n",
        "    # Only YYYY-MM-DD\n",
        "    date = fake.date_between(start_date=\"-60d\", end_date=\"today\")\n",
        "    date_str = date.strftime(\"%Y-%m-%d\")\n",
        "\n",
        "    # Generate Indian-style vehicle numbers (e.g., MH12AB1234)\n",
        "    states = [\"AP\", \"AR\", \"AS\", \"BR\", \"CG\", \"GA\", \"GJ\", \"HR\", \"HP\", \"JH\", \"KA\", \"KL\", \"MP\", \"MH\", \"MN\", \"ML\", \"MZ\", \"NL\", \"OD\", \"PB\", \"RJ\", \"SK\", \"TN\", \"TS\", \"TR\", \"UP\", \"UK\", \"WB\"]\n",
        "    vehicle_number = f\"{random.choice(states)}{random.randint(10,99)}{fake.random_uppercase_letter()}{fake.random_uppercase_letter()}{random.randint(1000,9999)}\"\n",
        "    driver_name = fake.name()\n",
        "    driver_number = fake.msisdn()[:10]\n",
        "    truck_type = random.choice([\"Bullet\",\"Pack\"])\n",
        "    lpg_qty = random.randint(500, 20000)\n",
        "\n",
        "    # Security In\n",
        "    records.append(\n",
        "        f\"INSERT INTO Security_In VALUES ({gatepass_no}, '{date_str}', '{vehicle_number}', '{driver_name}', '{driver_number}', '{truck_type}', {lpg_qty});\"\n",
        "    )\n",
        "\n",
        "    # Security Out\n",
        "    agency = fake.company()\n",
        "    records.append(\n",
        "        f\"INSERT INTO Security_Out VALUES ({gatepass_no}, '{date_str}', '{vehicle_number}', '{agency}', '{driver_name}', '{driver_number}', '{truck_type}', {lpg_qty});\"\n",
        "    )\n",
        "\n",
        "    # Weighbridge\n",
        "    weight_in = lpg_qty + random.randint(1000, 5000)\n",
        "    weight_out = weight_in - random.randint(100, 500)\n",
        "    in_time = fake.date_time_between(start_date=\"-60d\", end_date=\"now\")\n",
        "    out_time = in_time + timedelta(hours=random.randint(1, 5))\n",
        "    in_time_str = in_time.strftime(\"%Y-%m-%d %H:%M\")   # No seconds\n",
        "    out_time_str = out_time.strftime(\"%Y-%m-%d %H:%M\")\n",
        "\n",
        "    records.append(\n",
        "        f\"INSERT INTO Weighbridge (Gatepass_No, Truck_Type, Weight_In, Weight_Out, In_Time, Out_Time) \"\n",
        "        f\"VALUES ({gatepass_no}, '{truck_type}', {weight_in}, {weight_out}, '{in_time_str}', '{out_time_str}');\"\n",
        "    )\n",
        "\n",
        "    # Loading / Unloading\n",
        "    if truck_type == \"Pack\":\n",
        "        cyl_type = random.choice([\"14kg\",\"19kg\",\"47kg\"])\n",
        "        records.append(\n",
        "            f\"INSERT INTO Loading (Truck_Type, Cylinder_Type, Gatepass_No) VALUES ('{truck_type}', '{cyl_type}', {gatepass_no});\"\n",
        "        )\n",
        "        records.append(\n",
        "            f\"INSERT INTO Unloading (Vehicle_Number, Truck_Type, Cylinder_Type, Capsule1_MT, Capsule2_MT, Capsule3_MT, Gatepass_No) \"\n",
        "            f\"VALUES ('{vehicle_number}', '{truck_type}', '{cyl_type}', NULL, NULL, NULL, {gatepass_no});\"\n",
        "        )\n",
        "    else:\n",
        "        c1 = round(random.uniform(5, 10),2)\n",
        "        c2 = round(random.uniform(5, 10),2)\n",
        "        c3 = round(random.uniform(5, 10),2)\n",
        "        records.append(\n",
        "            f\"INSERT INTO Unloading (Vehicle_Number, Truck_Type, Cylinder_Type, Capsule1_MT, Capsule2_MT, Capsule3_MT, Gatepass_No) \"\n",
        "            f\"VALUES ('{vehicle_number}', '{truck_type}', NULL, {c1}, {c2}, {c3}, {gatepass_no});\"\n",
        "        )\n",
        "\n",
        "    # Filling center\n",
        "    cyl_fill = random.choice([\"5kg\",\"10kg\",\"14.5kg\",\"19kg\",\"47kg\"])\n",
        "    leakage = random.choice([0,1])\n",
        "    cap = random.choice([0,1])\n",
        "    manual = random.choice([0,1])\n",
        "    records.append(\n",
        "        f\"INSERT INTO Filling_Center (Cylinder_Type, Leakage_Test, Cap_Check, Manual_Test, Gatepass_No) \"\n",
        "        f\"VALUES ('{cyl_fill}', {leakage}, {cap}, {manual}, {gatepass_no});\"\n",
        "    )\n",
        "\n",
        "    gatepass_no += 1\n",
        "\n",
        "# HR Department sample employees\n",
        "for emp_id in range(1, 51):   # 50 staff\n",
        "    ename = fake.name()\n",
        "    sal = random.randint(20000, 60000)\n",
        "    hdate = fake.date_between(start_date=\"-2y\", end_date=\"today\")\n",
        "    hdate_str = hdate.strftime(\"%Y-%m-%d\")  # Only YYYY-MM-DD\n",
        "    dept = random.choice([\"Filling\",\"Security\",\"Admin\",\"Weighbridge\",\"Maintenance\"])\n",
        "    desg = random.choice([\"Manager\",\"Supervisor\",\"Operator\",\"Helper\",\"Clerk\"])\n",
        "    records.append(\n",
        "        f\"INSERT INTO HR_Department VALUES ({emp_id}, '{ename}', {sal}, '{hdate_str}', '{dept}', '{desg}');\"\n",
        "    )\n",
        "\n",
        "# Write to SQL file\n",
        "with open(\"lpg_bottling_data.sql\", \"w\", encoding=\"utf-8\") as f:\n",
        "    f.write(\"\\n\".join(records))\n",
        "\n",
        "print(\"✅ SQL script with 500+ records generated successfully!\")\n"
      ]
    },
    {
      "cell_type": "code",
      "source": [
        "from google.colab import files\n",
        "files.download(\"lpg_bottling_data.sql\")\n"
      ],
      "metadata": {
        "id": "wU0ktjQWjPtZ",
        "colab": {
          "base_uri": "https://localhost:8080/",
          "height": 17
        },
        "outputId": "14232644-efa1-48b6-ba62-7133330ef258"
      },
      "execution_count": 7,
      "outputs": [
        {
          "output_type": "display_data",
          "data": {
            "text/plain": [
              "<IPython.core.display.Javascript object>"
            ],
            "application/javascript": [
              "\n",
              "    async function download(id, filename, size) {\n",
              "      if (!google.colab.kernel.accessAllowed) {\n",
              "        return;\n",
              "      }\n",
              "      const div = document.createElement('div');\n",
              "      const label = document.createElement('label');\n",
              "      label.textContent = `Downloading \"${filename}\": `;\n",
              "      div.appendChild(label);\n",
              "      const progress = document.createElement('progress');\n",
              "      progress.max = size;\n",
              "      div.appendChild(progress);\n",
              "      document.body.appendChild(div);\n",
              "\n",
              "      const buffers = [];\n",
              "      let downloaded = 0;\n",
              "\n",
              "      const channel = await google.colab.kernel.comms.open(id);\n",
              "      // Send a message to notify the kernel that we're ready.\n",
              "      channel.send({})\n",
              "\n",
              "      for await (const message of channel.messages) {\n",
              "        // Send a message to notify the kernel that we're ready.\n",
              "        channel.send({})\n",
              "        if (message.buffers) {\n",
              "          for (const buffer of message.buffers) {\n",
              "            buffers.push(buffer);\n",
              "            downloaded += buffer.byteLength;\n",
              "            progress.value = downloaded;\n",
              "          }\n",
              "        }\n",
              "      }\n",
              "      const blob = new Blob(buffers, {type: 'application/binary'});\n",
              "      const a = document.createElement('a');\n",
              "      a.href = window.URL.createObjectURL(blob);\n",
              "      a.download = filename;\n",
              "      div.appendChild(a);\n",
              "      a.click();\n",
              "      div.remove();\n",
              "    }\n",
              "  "
            ]
          },
          "metadata": {}
        },
        {
          "output_type": "display_data",
          "data": {
            "text/plain": [
              "<IPython.core.display.Javascript object>"
            ],
            "application/javascript": [
              "download(\"download_7d328348-259b-4c71-9549-68b7bad368ba\", \"lpg_bottling_data.sql\", 389980)"
            ]
          },
          "metadata": {}
        }
      ]
    }
  ]
}